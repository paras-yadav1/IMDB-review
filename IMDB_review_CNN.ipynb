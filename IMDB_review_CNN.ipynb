{
  "nbformat": 4,
  "nbformat_minor": 0,
  "metadata": {
    "colab": {
      "name": "IMDB review CNN.ipynb",
      "provenance": [],
      "collapsed_sections": []
    },
    "kernelspec": {
      "name": "python3",
      "display_name": "Python 3"
    },
    "accelerator": "GPU"
  },
  "cells": [
    {
      "cell_type": "code",
      "metadata": {
        "id": "Y20Lud2ZMBhW",
        "colab_type": "code",
        "outputId": "e697d442-76d1-4b6c-bc75-89050a0d9ba7",
        "colab": {
          "base_uri": "https://localhost:8080/",
          "height": 35
        }
      },
      "source": [
        "from __future__ import absolute_import, division, print_function, unicode_literals\n",
        "\n",
        "\n",
        "import tensorflow_datasets as tfds\n",
        "import tensorflow as tf\n",
        "print(tf.__version__)"
      ],
      "execution_count": 36,
      "outputs": [
        {
          "output_type": "stream",
          "text": [
            "2.1.0\n"
          ],
          "name": "stdout"
        }
      ]
    },
    {
      "cell_type": "code",
      "metadata": {
        "id": "Aclov8NVMJml",
        "colab_type": "code",
        "colab": {}
      },
      "source": [
        "# If the tf.__version__ is 1.x, please run this cell\n",
        "#!pip install --upgrade --ignore-installed tensorflow"
      ],
      "execution_count": 0,
      "outputs": []
    },
    {
      "cell_type": "code",
      "metadata": {
        "id": "uAU8g7C0MPZE",
        "colab_type": "code",
        "outputId": "14cf1edc-1fea-4144-91f2-1f38753e7d23",
        "colab": {
          "base_uri": "https://localhost:8080/",
          "height": 35
        }
      },
      "source": [
        "import tensorflow_datasets as tfds\n",
        "import tensorflow as tf\n",
        "print(tf.__version__)"
      ],
      "execution_count": 38,
      "outputs": [
        {
          "output_type": "stream",
          "text": [
            "2.1.0\n"
          ],
          "name": "stdout"
        }
      ]
    },
    {
      "cell_type": "code",
      "metadata": {
        "id": "AW-4Vo4TMUHb",
        "colab_type": "code",
        "colab": {}
      },
      "source": [
        "# Get the data\n",
        "imdb, info = tfds.load(\"imdb_reviews\", with_info=True, as_supervised=True)"
      ],
      "execution_count": 0,
      "outputs": []
    },
    {
      "cell_type": "code",
      "metadata": {
        "id": "L11bIR6-PKvs",
        "colab_type": "code",
        "colab": {}
      },
      "source": [
        "import numpy as np\n",
        "\n",
        "train_data, test_data = imdb['train'], imdb['test']\n",
        "\n",
        "training_sentences = []\n",
        "training_labels = []\n",
        "\n",
        "testing_sentences = []\n",
        "testing_labels = []\n",
        "\n",
        "# str(s.tonumpy()) is needed in Python3 instead of just s.numpy()\n",
        "for s,l in train_data:\n",
        "  training_sentences.append(str(s.numpy()))\n",
        "  training_labels.append(l.numpy())\n",
        "  \n",
        "for s,l in test_data:\n",
        "  testing_sentences.append(str(s.numpy()))\n",
        "  testing_labels.append(l.numpy())\n",
        "  \n",
        "training_labels_final = np.array(training_labels)\n",
        "testing_labels_final = np.array(testing_labels)"
      ],
      "execution_count": 0,
      "outputs": []
    },
    {
      "cell_type": "code",
      "metadata": {
        "id": "ffvRUI0_McDS",
        "colab_type": "code",
        "colab": {}
      },
      "source": [
        "vocab_size = 5000\n",
        "embedding_dim = 16\n",
        "max_length = 120\n",
        "trunc_type='post'\n",
        "oov_tok = \"<OOV>\"\n",
        "\n",
        "\n",
        "from tensorflow.keras.preprocessing.text import Tokenizer\n",
        "from tensorflow.keras.preprocessing.sequence import pad_sequences\n",
        "\n",
        "tokenizer = Tokenizer(num_words = vocab_size, oov_token=oov_tok)\n",
        "tokenizer.fit_on_texts(training_sentences)\n",
        "word_index = tokenizer.word_index\n",
        "sequences = tokenizer.texts_to_sequences(training_sentences)\n",
        "padded = pad_sequences(sequences,maxlen=max_length, truncating=trunc_type)\n",
        "\n",
        "testing_sequences = tokenizer.texts_to_sequences(testing_sentences)\n",
        "testing_padded = pad_sequences(testing_sequences,maxlen=max_length)"
      ],
      "execution_count": 0,
      "outputs": []
    },
    {
      "cell_type": "code",
      "metadata": {
        "colab_type": "code",
        "id": "jo1jjO3vn0jo",
        "colab": {
          "base_uri": "https://localhost:8080/",
          "height": 345
        },
        "outputId": "b999d266-0a89-40fe-d8b0-716e4388df53"
      },
      "source": [
        "model = tf.keras.Sequential([\n",
        "    tf.keras.layers.Embedding(vocab_size, embedding_dim, input_length=max_length),\n",
        "    tf.keras.layers.Conv1D(128, 5, activation='relu'),\n",
        "    tf.keras.layers.GlobalAveragePooling1D(),\n",
        "    tf.keras.layers.Dense(6, activation='relu'),\n",
        "    tf.keras.layers.Dense(1, activation='sigmoid')\n",
        "])\n",
        "model.compile(loss='binary_crossentropy',optimizer='adam',metrics=['accuracy'])\n",
        "model.summary()"
      ],
      "execution_count": 42,
      "outputs": [
        {
          "output_type": "stream",
          "text": [
            "Model: \"sequential_3\"\n",
            "_________________________________________________________________\n",
            "Layer (type)                 Output Shape              Param #   \n",
            "=================================================================\n",
            "embedding_3 (Embedding)      (None, 120, 16)           80000     \n",
            "_________________________________________________________________\n",
            "conv1d_3 (Conv1D)            (None, 116, 128)          10368     \n",
            "_________________________________________________________________\n",
            "global_average_pooling1d_3 ( (None, 128)               0         \n",
            "_________________________________________________________________\n",
            "dense_6 (Dense)              (None, 6)                 774       \n",
            "_________________________________________________________________\n",
            "dense_7 (Dense)              (None, 1)                 7         \n",
            "=================================================================\n",
            "Total params: 91,149\n",
            "Trainable params: 91,149\n",
            "Non-trainable params: 0\n",
            "_________________________________________________________________\n"
          ],
          "name": "stdout"
        }
      ]
    },
    {
      "cell_type": "code",
      "metadata": {
        "id": "7mlgzaRDMtF6",
        "colab_type": "code",
        "outputId": "ecb693d5-00a9-4164-819f-b6c5f696ef22",
        "colab": {
          "base_uri": "https://localhost:8080/",
          "height": 763
        }
      },
      "source": [
        "NUM_EPOCHS = 20\n",
        "history = model.fit(padded, training_labels_final, epochs=NUM_EPOCHS, validation_data=(testing_padded, testing_labels_final))"
      ],
      "execution_count": 43,
      "outputs": [
        {
          "output_type": "stream",
          "text": [
            "Train on 25000 samples, validate on 25000 samples\n",
            "Epoch 1/20\n",
            "25000/25000 [==============================] - 8s 334us/sample - loss: 0.4446 - accuracy: 0.7866 - val_loss: 0.3478 - val_accuracy: 0.8490\n",
            "Epoch 2/20\n",
            "25000/25000 [==============================] - 8s 309us/sample - loss: 0.3152 - accuracy: 0.8673 - val_loss: 0.3473 - val_accuracy: 0.8465\n",
            "Epoch 3/20\n",
            "25000/25000 [==============================] - 8s 309us/sample - loss: 0.2819 - accuracy: 0.8833 - val_loss: 0.3535 - val_accuracy: 0.8444\n",
            "Epoch 4/20\n",
            "25000/25000 [==============================] - 8s 313us/sample - loss: 0.2565 - accuracy: 0.8959 - val_loss: 0.3618 - val_accuracy: 0.8392\n",
            "Epoch 5/20\n",
            "25000/25000 [==============================] - 8s 308us/sample - loss: 0.2353 - accuracy: 0.9061 - val_loss: 0.3889 - val_accuracy: 0.8349\n",
            "Epoch 6/20\n",
            "25000/25000 [==============================] - 8s 308us/sample - loss: 0.2160 - accuracy: 0.9171 - val_loss: 0.3987 - val_accuracy: 0.8332\n",
            "Epoch 7/20\n",
            "25000/25000 [==============================] - 8s 307us/sample - loss: 0.1982 - accuracy: 0.9264 - val_loss: 0.4136 - val_accuracy: 0.8319\n",
            "Epoch 8/20\n",
            "25000/25000 [==============================] - 8s 310us/sample - loss: 0.1831 - accuracy: 0.9334 - val_loss: 0.4498 - val_accuracy: 0.8280\n",
            "Epoch 9/20\n",
            "25000/25000 [==============================] - 8s 309us/sample - loss: 0.1645 - accuracy: 0.9426 - val_loss: 0.4942 - val_accuracy: 0.8267\n",
            "Epoch 10/20\n",
            "25000/25000 [==============================] - 8s 309us/sample - loss: 0.1486 - accuracy: 0.9494 - val_loss: 0.5061 - val_accuracy: 0.8216\n",
            "Epoch 11/20\n",
            "25000/25000 [==============================] - 8s 311us/sample - loss: 0.1295 - accuracy: 0.9598 - val_loss: 0.5512 - val_accuracy: 0.8202\n",
            "Epoch 12/20\n",
            "25000/25000 [==============================] - 8s 311us/sample - loss: 0.1111 - accuracy: 0.9668 - val_loss: 0.6138 - val_accuracy: 0.8199\n",
            "Epoch 13/20\n",
            "25000/25000 [==============================] - 8s 308us/sample - loss: 0.0937 - accuracy: 0.9740 - val_loss: 0.6490 - val_accuracy: 0.8158\n",
            "Epoch 14/20\n",
            "25000/25000 [==============================] - 8s 310us/sample - loss: 0.0780 - accuracy: 0.9792 - val_loss: 0.7135 - val_accuracy: 0.8138\n",
            "Epoch 15/20\n",
            "25000/25000 [==============================] - 8s 309us/sample - loss: 0.0642 - accuracy: 0.9832 - val_loss: 0.7670 - val_accuracy: 0.8139\n",
            "Epoch 16/20\n",
            "25000/25000 [==============================] - 8s 307us/sample - loss: 0.0517 - accuracy: 0.9868 - val_loss: 0.8922 - val_accuracy: 0.8110\n",
            "Epoch 17/20\n",
            "25000/25000 [==============================] - 8s 315us/sample - loss: 0.0379 - accuracy: 0.9913 - val_loss: 0.9164 - val_accuracy: 0.8076\n",
            "Epoch 18/20\n",
            "25000/25000 [==============================] - 8s 322us/sample - loss: 0.0310 - accuracy: 0.9924 - val_loss: 1.0661 - val_accuracy: 0.8093\n",
            "Epoch 19/20\n",
            "25000/25000 [==============================] - 8s 305us/sample - loss: 0.0236 - accuracy: 0.9938 - val_loss: 1.1210 - val_accuracy: 0.8088\n",
            "Epoch 20/20\n",
            "25000/25000 [==============================] - 8s 304us/sample - loss: 0.0189 - accuracy: 0.9950 - val_loss: 1.2688 - val_accuracy: 0.8092\n"
          ],
          "name": "stdout"
        }
      ]
    },
    {
      "cell_type": "code",
      "metadata": {
        "colab_type": "code",
        "id": "Mp1Z7P9pYRSK",
        "colab": {}
      },
      "source": [
        "import matplotlib.pyplot as plt\n",
        "\n",
        "\n",
        "def plot_graphs(history, string):\n",
        "  plt.plot(history.history[string])\n",
        "  plt.plot(history.history['val_'+string])\n",
        "  plt.xlabel(\"Epochs\")\n",
        "  plt.ylabel(string)\n",
        "  plt.legend([string, 'val_'+string])\n",
        "  plt.show()"
      ],
      "execution_count": 0,
      "outputs": []
    },
    {
      "cell_type": "code",
      "metadata": {
        "id": "R_sX6ilIM515",
        "colab_type": "code",
        "colab": {
          "base_uri": "https://localhost:8080/",
          "height": 279
        },
        "outputId": "497a047b-31c7-472f-8fb9-92bb6f60cb86"
      },
      "source": [
        "plot_graphs(history, 'accuracy')"
      ],
      "execution_count": 45,
      "outputs": [
        {
          "output_type": "display_data",
          "data": {
            "image/png": "[encoded data removed]",
            "text/plain": [
              "<Figure size 432x288 with 1 Axes>"
            ]
          },
          "metadata": {
            "tags": []
          }
        }
      ]
    },
    {
      "cell_type": "code",
      "metadata": {
        "id": "RFEXtKtqNARB",
        "colab_type": "code",
        "colab": {
          "base_uri": "https://localhost:8080/",
          "height": 279
        },
        "outputId": "5e406042-7018-4d9b-91cd-79767be75cd0"
      },
      "source": [
        "plot_graphs(history, 'loss')"
      ],
      "execution_count": 46,
      "outputs": [
        {
          "output_type": "display_data",
          "data": {
            "image/png": "[encoded data removed]",
            "text/plain": [
              "<Figure size 432x288 with 1 Axes>"
            ]
          },
          "metadata": {
            "tags": []
          }
        }
      ]
    }
  ]
}